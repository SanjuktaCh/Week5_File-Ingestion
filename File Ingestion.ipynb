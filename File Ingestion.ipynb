{
 "cells": [
  {
   "cell_type": "code",
   "execution_count": 1,
   "id": "0c884c13",
   "metadata": {},
   "outputs": [],
   "source": [
    "import os\n",
    "import time"
   ]
  },
  {
   "cell_type": "code",
   "execution_count": 2,
   "id": "a0afcac2",
   "metadata": {},
   "outputs": [
    {
     "data": {
      "text/plain": [
       "3488002253"
      ]
     },
     "execution_count": 2,
     "metadata": {},
     "output_type": "execute_result"
    }
   ],
   "source": [
    "#Size of the file\n",
    "os.path.getsize('transactions_test.csv')"
   ]
  },
  {
   "cell_type": "code",
   "execution_count": 3,
   "id": "c2703665",
   "metadata": {},
   "outputs": [
    {
     "name": "stdout",
     "output_type": "stream",
     "text": [
      "Read csv with dask:  0.03997302055358887 sec\n"
     ]
    }
   ],
   "source": [
    "#Dask reading process\n",
    "from dask import dataframe as dd\n",
    "start = time.time()\n",
    "dask_df = dd.read_csv('transactions_test.csv')\n",
    "end = time.time()\n",
    "print(\"Read csv with dask: \",(end-start),\"sec\")"
   ]
  },
  {
   "cell_type": "code",
   "execution_count": 4,
   "id": "315736ad",
   "metadata": {},
   "outputs": [
    {
     "name": "stdout",
     "output_type": "stream",
     "text": [
      "Read csv with panda:  22.656229257583618 sec\n"
     ]
    }
   ],
   "source": [
    "#Normal reading process of the file\n",
    "import pandas as pd\n",
    "start = time.time()\n",
    "df_sample = pd.read_csv(\"transactions_test.csv\",delimiter=',')\n",
    "end = time.time()\n",
    "print(\"Read csv with panda: \",(end-start),\"sec\")\n",
    "#df_sample.head(10)"
   ]
  },
  {
   "cell_type": "code",
   "execution_count": 5,
   "id": "f0466507",
   "metadata": {},
   "outputs": [
    {
     "name": "stderr",
     "output_type": "stream",
     "text": [
      "2022-09-11 10:07:14,418\tINFO services.py:1456 -- View the Ray dashboard at \u001b[1m\u001b[32mhttp://127.0.0.1:8265\u001b[39m\u001b[22m\n"
     ]
    },
    {
     "name": "stdout",
     "output_type": "stream",
     "text": [
      "Read csv with modin and ray:  37.67683672904968 sec\n"
     ]
    }
   ],
   "source": [
    "#Modin and Ray reading process\n",
    "import modin.pandas as pd\n",
    "import ray\n",
    "ray.shutdown()\n",
    "ray.init()\n",
    "start = time.time()\n",
    "df = pd.read_csv('transactions_test.csv')\n",
    "end = time.time()\n",
    "print(\"Read csv with modin and ray: \",(end-start),\"sec\")"
   ]
  },
  {
   "cell_type": "code",
   "execution_count": 10,
   "id": "1192eb18",
   "metadata": {},
   "outputs": [
    {
     "name": "stdout",
     "output_type": "stream",
     "text": [
      "Overwriting file.yaml\n"
     ]
    }
   ],
   "source": [
    "%%writefile file.yaml\n",
    "file_type: csv\n",
    "dataset_name: testfile\n",
    "file_name: transactions_test\n",
    "table_name: edsurv\n",
    "inbound_delimiter: \",\"\n",
    "outbound_delimiter: \"|\"\n",
    "skip_leading_rows: 1\n",
    "columns: \n",
    "    - t_dat\n",
    "    - customer_id\n",
    "    - article_id\n",
    "    - Price\n",
    "    - Sales_channel_id"
   ]
  },
  {
   "cell_type": "code",
   "execution_count": 11,
   "id": "8d8555aa",
   "metadata": {},
   "outputs": [
    {
     "name": "stdout",
     "output_type": "stream",
     "text": [
      "Overwriting testutility.py\n"
     ]
    }
   ],
   "source": [
    "%%writefile testutility.py\n",
    "import logging\n",
    "import os\n",
    "import subprocess\n",
    "import yaml\n",
    "import pandas as pd\n",
    "import datetime \n",
    "import gc\n",
    "import re\n",
    "\n",
    "\n",
    "################\n",
    "# File Reading #\n",
    "################\n",
    "\n",
    "def read_config_file(filepath):\n",
    "    with open(filepath, 'r') as stream:\n",
    "        try:\n",
    "            return yaml.safe_load(stream)\n",
    "        except yaml.YAMLError as exc:\n",
    "            logging.error(exc)\n",
    "\n",
    "\n",
    "def replacer(string, char):\n",
    "    pattern = char + '{2,}'\n",
    "    string = re.sub(pattern, char, string) \n",
    "    return string\n",
    "\n",
    "def col_header_val(df,table_config):\n",
    "    '''\n",
    "    replace whitespaces in the column\n",
    "    and standardized column names\n",
    "    '''\n",
    "    df.columns = df.columns.str.lower()\n",
    "    df.columns = df.columns.str.replace('[^\\w]','_',regex=True)\n",
    "    df.columns = list(map(lambda x: x.strip('_'), list(df.columns)))\n",
    "    df.columns = list(map(lambda x: replacer(x,'_'), list(df.columns)))\n",
    "    expected_col = list(map(lambda x: x.lower(),  table_config['columns']))\n",
    "    expected_col.sort()\n",
    "    df.columns =list(map(lambda x: x.lower(), list(df.columns)))\n",
    "    df = df.reindex(sorted(df.columns), axis=1)\n",
    "    if len(df.columns) == len(expected_col) and list(expected_col)  == list(df.columns):\n",
    "        print(\"column name and column length validation passed\")\n",
    "        return 1\n",
    "    else:\n",
    "        print(\"column name and column length validation failed\")\n",
    "        mismatched_columns_file = list(set(df.columns).difference(expected_col))\n",
    "        print(\"Following File columns are not in the YAML file\",mismatched_columns_file)\n",
    "        missing_YAML_file = list(set(expected_col).difference(df.columns))\n",
    "        print(\"Following YAML columns are not in the file uploaded\",missing_YAML_file)\n",
    "        logging.info(f'df columns: {df.columns}')\n",
    "        logging.info(f'expected columns: {expected_col}')\n",
    "        return 0"
   ]
  },
  {
   "cell_type": "code",
   "execution_count": 12,
   "id": "cc45d81b",
   "metadata": {},
   "outputs": [],
   "source": [
    "# Read config file\n",
    "import testutility as util\n",
    "config_data = util.read_config_file(\"file.yaml\")"
   ]
  },
  {
   "cell_type": "code",
   "execution_count": 13,
   "id": "c1832d7b",
   "metadata": {},
   "outputs": [
    {
     "data": {
      "text/plain": [
       "','"
      ]
     },
     "execution_count": 13,
     "metadata": {},
     "output_type": "execute_result"
    }
   ],
   "source": [
    "config_data['inbound_delimiter']"
   ]
  },
  {
   "cell_type": "code",
   "execution_count": 14,
   "id": "89bb9660",
   "metadata": {},
   "outputs": [
    {
     "data": {
      "text/plain": [
       "{'file_type': 'csv',\n",
       " 'dataset_name': 'testfile',\n",
       " 'file_name': 'transactions_test',\n",
       " 'table_name': 'edsurv',\n",
       " 'inbound_delimiter': ',',\n",
       " 'outbound_delimiter': '|',\n",
       " 'skip_leading_rows': 1,\n",
       " 'columns': ['t_dat',\n",
       "  'customer_id',\n",
       "  'article_id',\n",
       "  'Price',\n",
       "  'Sales_channel_id']}"
      ]
     },
     "execution_count": 14,
     "metadata": {},
     "output_type": "execute_result"
    }
   ],
   "source": [
    "#inspecting data of config file\n",
    "config_data"
   ]
  },
  {
   "cell_type": "code",
   "execution_count": 15,
   "id": "cfb380e2",
   "metadata": {},
   "outputs": [
    {
     "name": "stderr",
     "output_type": "stream",
     "text": [
      "C:\\Users\\schou\\anaconda3\\lib\\site-packages\\IPython\\core\\interactiveshell.py:3444: FutureWarning: In a future version of pandas all arguments of read_csv except for the argument 'filepath_or_buffer' will be keyword-only\n",
      "  exec(code_obj, self.user_global_ns, self.user_ns)\n"
     ]
    },
    {
     "data": {
      "text/html": [
       "<div>\n",
       "<style scoped>\n",
       "    .dataframe tbody tr th:only-of-type {\n",
       "        vertical-align: middle;\n",
       "    }\n",
       "\n",
       "    .dataframe tbody tr th {\n",
       "        vertical-align: top;\n",
       "    }\n",
       "\n",
       "    .dataframe thead th {\n",
       "        text-align: right;\n",
       "    }\n",
       "</style>\n",
       "<table border=\"1\" class=\"dataframe\">\n",
       "  <thead>\n",
       "    <tr style=\"text-align: right;\">\n",
       "      <th></th>\n",
       "      <th>t_dat</th>\n",
       "      <th>customer_id</th>\n",
       "      <th>article_id</th>\n",
       "      <th>price</th>\n",
       "      <th>sales_channel_id</th>\n",
       "    </tr>\n",
       "  </thead>\n",
       "  <tbody>\n",
       "    <tr>\n",
       "      <th>0</th>\n",
       "      <td>2018-09-20</td>\n",
       "      <td>000058a12d5b43e67d225668fa1f8d618c13dc232df0ca...</td>\n",
       "      <td>663713001</td>\n",
       "      <td>0.050831</td>\n",
       "      <td>2</td>\n",
       "    </tr>\n",
       "    <tr>\n",
       "      <th>1</th>\n",
       "      <td>2018-09-20</td>\n",
       "      <td>000058a12d5b43e67d225668fa1f8d618c13dc232df0ca...</td>\n",
       "      <td>541518023</td>\n",
       "      <td>0.030492</td>\n",
       "      <td>2</td>\n",
       "    </tr>\n",
       "    <tr>\n",
       "      <th>2</th>\n",
       "      <td>2018-09-20</td>\n",
       "      <td>00007d2de826758b65a93dd24ce629ed66842531df6699...</td>\n",
       "      <td>505221004</td>\n",
       "      <td>0.015237</td>\n",
       "      <td>2</td>\n",
       "    </tr>\n",
       "    <tr>\n",
       "      <th>3</th>\n",
       "      <td>2018-09-20</td>\n",
       "      <td>00007d2de826758b65a93dd24ce629ed66842531df6699...</td>\n",
       "      <td>685687003</td>\n",
       "      <td>0.016932</td>\n",
       "      <td>2</td>\n",
       "    </tr>\n",
       "    <tr>\n",
       "      <th>4</th>\n",
       "      <td>2018-09-20</td>\n",
       "      <td>00007d2de826758b65a93dd24ce629ed66842531df6699...</td>\n",
       "      <td>685687004</td>\n",
       "      <td>0.016932</td>\n",
       "      <td>2</td>\n",
       "    </tr>\n",
       "  </tbody>\n",
       "</table>\n",
       "</div>"
      ],
      "text/plain": [
       "        t_dat                                        customer_id  article_id  \\\n",
       "0  2018-09-20  000058a12d5b43e67d225668fa1f8d618c13dc232df0ca...   663713001   \n",
       "1  2018-09-20  000058a12d5b43e67d225668fa1f8d618c13dc232df0ca...   541518023   \n",
       "2  2018-09-20  00007d2de826758b65a93dd24ce629ed66842531df6699...   505221004   \n",
       "3  2018-09-20  00007d2de826758b65a93dd24ce629ed66842531df6699...   685687003   \n",
       "4  2018-09-20  00007d2de826758b65a93dd24ce629ed66842531df6699...   685687004   \n",
       "\n",
       "      price  sales_channel_id  \n",
       "0  0.050831                 2  \n",
       "1  0.030492                 2  \n",
       "2  0.015237                 2  \n",
       "3  0.016932                 2  \n",
       "4  0.016932                 2  "
      ]
     },
     "execution_count": 15,
     "metadata": {},
     "output_type": "execute_result"
    }
   ],
   "source": [
    "# read the file using config file\n",
    "file_type = config_data['file_type']\n",
    "source_file = \"./\" + config_data['file_name'] + f'.{file_type}'\n",
    "#print(\"\",source_file)\n",
    "df = pd.read_csv(source_file,config_data['inbound_delimiter'])\n",
    "df.head()"
   ]
  },
  {
   "cell_type": "code",
   "execution_count": 16,
   "id": "74da2f2a",
   "metadata": {},
   "outputs": [
    {
     "name": "stdout",
     "output_type": "stream",
     "text": [
      "column name and column length validation passed\n"
     ]
    },
    {
     "data": {
      "text/plain": [
       "1"
      ]
     },
     "execution_count": 16,
     "metadata": {},
     "output_type": "execute_result"
    }
   ],
   "source": [
    "#validate the header of the file\n",
    "util.col_header_val(df,config_data)"
   ]
  },
  {
   "cell_type": "code",
   "execution_count": 17,
   "id": "4ce4ad92",
   "metadata": {},
   "outputs": [
    {
     "name": "stdout",
     "output_type": "stream",
     "text": [
      "columns of files are: Index(['t_dat', 'customer_id', 'article_id', 'price', 'sales_channel_id'], dtype='object')\n",
      "columns of YAML are: ['t_dat', 'customer_id', 'article_id', 'Price', 'Sales_channel_id']\n"
     ]
    }
   ],
   "source": [
    "print(\"columns of files are:\" ,df.columns)\n",
    "print(\"columns of YAML are:\" ,config_data['columns'])"
   ]
  },
  {
   "cell_type": "code",
   "execution_count": 18,
   "id": "b0adec64",
   "metadata": {},
   "outputs": [
    {
     "name": "stdout",
     "output_type": "stream",
     "text": [
      "column name and column length validation passed\n",
      "col validation passed\n"
     ]
    }
   ],
   "source": [
    "if util.col_header_val(df,config_data)==0:\n",
    "    print(\"validation failed\")\n",
    "else:\n",
    "    print(\"col validation passed\")"
   ]
  },
  {
   "cell_type": "code",
   "execution_count": 8,
   "id": "39badd33",
   "metadata": {},
   "outputs": [
    {
     "data": {
      "text/plain": [
       "['C:/Users/schou/Documents/transactions_test.csv.gz\\\\00.part',\n",
       " 'C:/Users/schou/Documents/transactions_test.csv.gz\\\\01.part',\n",
       " 'C:/Users/schou/Documents/transactions_test.csv.gz\\\\02.part',\n",
       " 'C:/Users/schou/Documents/transactions_test.csv.gz\\\\03.part',\n",
       " 'C:/Users/schou/Documents/transactions_test.csv.gz\\\\04.part',\n",
       " 'C:/Users/schou/Documents/transactions_test.csv.gz\\\\05.part',\n",
       " 'C:/Users/schou/Documents/transactions_test.csv.gz\\\\06.part',\n",
       " 'C:/Users/schou/Documents/transactions_test.csv.gz\\\\07.part',\n",
       " 'C:/Users/schou/Documents/transactions_test.csv.gz\\\\08.part',\n",
       " 'C:/Users/schou/Documents/transactions_test.csv.gz\\\\09.part',\n",
       " 'C:/Users/schou/Documents/transactions_test.csv.gz\\\\10.part',\n",
       " 'C:/Users/schou/Documents/transactions_test.csv.gz\\\\11.part',\n",
       " 'C:/Users/schou/Documents/transactions_test.csv.gz\\\\12.part',\n",
       " 'C:/Users/schou/Documents/transactions_test.csv.gz\\\\13.part',\n",
       " 'C:/Users/schou/Documents/transactions_test.csv.gz\\\\14.part',\n",
       " 'C:/Users/schou/Documents/transactions_test.csv.gz\\\\15.part',\n",
       " 'C:/Users/schou/Documents/transactions_test.csv.gz\\\\16.part',\n",
       " 'C:/Users/schou/Documents/transactions_test.csv.gz\\\\17.part',\n",
       " 'C:/Users/schou/Documents/transactions_test.csv.gz\\\\18.part',\n",
       " 'C:/Users/schou/Documents/transactions_test.csv.gz\\\\19.part',\n",
       " 'C:/Users/schou/Documents/transactions_test.csv.gz\\\\20.part',\n",
       " 'C:/Users/schou/Documents/transactions_test.csv.gz\\\\21.part',\n",
       " 'C:/Users/schou/Documents/transactions_test.csv.gz\\\\22.part',\n",
       " 'C:/Users/schou/Documents/transactions_test.csv.gz\\\\23.part',\n",
       " 'C:/Users/schou/Documents/transactions_test.csv.gz\\\\24.part',\n",
       " 'C:/Users/schou/Documents/transactions_test.csv.gz\\\\25.part',\n",
       " 'C:/Users/schou/Documents/transactions_test.csv.gz\\\\26.part',\n",
       " 'C:/Users/schou/Documents/transactions_test.csv.gz\\\\27.part',\n",
       " 'C:/Users/schou/Documents/transactions_test.csv.gz\\\\28.part',\n",
       " 'C:/Users/schou/Documents/transactions_test.csv.gz\\\\29.part',\n",
       " 'C:/Users/schou/Documents/transactions_test.csv.gz\\\\30.part',\n",
       " 'C:/Users/schou/Documents/transactions_test.csv.gz\\\\31.part',\n",
       " 'C:/Users/schou/Documents/transactions_test.csv.gz\\\\32.part',\n",
       " 'C:/Users/schou/Documents/transactions_test.csv.gz\\\\33.part',\n",
       " 'C:/Users/schou/Documents/transactions_test.csv.gz\\\\34.part',\n",
       " 'C:/Users/schou/Documents/transactions_test.csv.gz\\\\35.part',\n",
       " 'C:/Users/schou/Documents/transactions_test.csv.gz\\\\36.part',\n",
       " 'C:/Users/schou/Documents/transactions_test.csv.gz\\\\37.part',\n",
       " 'C:/Users/schou/Documents/transactions_test.csv.gz\\\\38.part',\n",
       " 'C:/Users/schou/Documents/transactions_test.csv.gz\\\\39.part',\n",
       " 'C:/Users/schou/Documents/transactions_test.csv.gz\\\\40.part',\n",
       " 'C:/Users/schou/Documents/transactions_test.csv.gz\\\\41.part',\n",
       " 'C:/Users/schou/Documents/transactions_test.csv.gz\\\\42.part',\n",
       " 'C:/Users/schou/Documents/transactions_test.csv.gz\\\\43.part',\n",
       " 'C:/Users/schou/Documents/transactions_test.csv.gz\\\\44.part',\n",
       " 'C:/Users/schou/Documents/transactions_test.csv.gz\\\\45.part',\n",
       " 'C:/Users/schou/Documents/transactions_test.csv.gz\\\\46.part',\n",
       " 'C:/Users/schou/Documents/transactions_test.csv.gz\\\\47.part',\n",
       " 'C:/Users/schou/Documents/transactions_test.csv.gz\\\\48.part',\n",
       " 'C:/Users/schou/Documents/transactions_test.csv.gz\\\\49.part',\n",
       " 'C:/Users/schou/Documents/transactions_test.csv.gz\\\\50.part',\n",
       " 'C:/Users/schou/Documents/transactions_test.csv.gz\\\\51.part',\n",
       " 'C:/Users/schou/Documents/transactions_test.csv.gz\\\\52.part',\n",
       " 'C:/Users/schou/Documents/transactions_test.csv.gz\\\\53.part',\n",
       " 'C:/Users/schou/Documents/transactions_test.csv.gz\\\\54.part']"
      ]
     },
     "execution_count": 8,
     "metadata": {},
     "output_type": "execute_result"
    }
   ],
   "source": [
    "import datetime\n",
    "import csv\n",
    "import gzip\n",
    "\n",
    "from dask import dataframe as dd\n",
    "df = dd.read_csv('transactions_test.csv',delimiter=',')\n",
    "\n",
    "# Write csv in gz format in pipe separated text file (|)\n",
    "df.to_csv('transactions_test.csv.gz',\n",
    "          sep='|',\n",
    "          header=True,\n",
    "          index=False,\n",
    "          quoting=csv.QUOTE_ALL,\n",
    "          compression='gzip',\n",
    "          quotechar='\"',\n",
    "          doublequote=True,\n",
    "          line_terminator='\\n')"
   ]
  },
  {
   "cell_type": "code",
   "execution_count": 9,
   "id": "9016fa09",
   "metadata": {},
   "outputs": [
    {
     "name": "stdout",
     "output_type": "stream",
     "text": [
      "00.part\n",
      "01.part\n",
      "02.part\n",
      "03.part\n",
      "04.part\n",
      "05.part\n",
      "06.part\n",
      "07.part\n",
      "08.part\n",
      "09.part\n",
      "10.part\n",
      "11.part\n",
      "12.part\n",
      "13.part\n",
      "14.part\n",
      "15.part\n",
      "16.part\n",
      "17.part\n",
      "18.part\n",
      "19.part\n",
      "20.part\n",
      "21.part\n",
      "22.part\n",
      "23.part\n",
      "24.part\n",
      "25.part\n",
      "26.part\n",
      "27.part\n",
      "28.part\n",
      "29.part\n",
      "30.part\n",
      "31.part\n",
      "32.part\n",
      "33.part\n",
      "34.part\n",
      "35.part\n",
      "36.part\n",
      "37.part\n",
      "38.part\n",
      "39.part\n",
      "40.part\n",
      "41.part\n",
      "42.part\n",
      "43.part\n",
      "44.part\n",
      "45.part\n",
      "46.part\n",
      "47.part\n",
      "48.part\n",
      "49.part\n",
      "50.part\n",
      "51.part\n",
      "52.part\n",
      "53.part\n",
      "54.part\n"
     ]
    }
   ],
   "source": [
    "#number of files in gz format folder\n",
    "import os\n",
    "entries = os.listdir('transactions_test.csv.gz/')\n",
    "for entry in entries:\n",
    "    print(entry)"
   ]
  },
  {
   "cell_type": "code",
   "execution_count": 10,
   "id": "856366ae",
   "metadata": {},
   "outputs": [
    {
     "data": {
      "text/plain": [
       "8192"
      ]
     },
     "execution_count": 10,
     "metadata": {},
     "output_type": "execute_result"
    }
   ],
   "source": [
    "#size of the gz format folder\n",
    "os.path.getsize('transactions_test.csv.gz')"
   ]
  },
  {
   "cell_type": "code",
   "execution_count": null,
   "id": "bfc44ace",
   "metadata": {},
   "outputs": [],
   "source": []
  }
 ],
 "metadata": {
  "kernelspec": {
   "display_name": "Python 3 (ipykernel)",
   "language": "python",
   "name": "python3"
  },
  "language_info": {
   "codemirror_mode": {
    "name": "ipython",
    "version": 3
   },
   "file_extension": ".py",
   "mimetype": "text/x-python",
   "name": "python",
   "nbconvert_exporter": "python",
   "pygments_lexer": "ipython3",
   "version": "3.9.7"
  }
 },
 "nbformat": 4,
 "nbformat_minor": 5
}
